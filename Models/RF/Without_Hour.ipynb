{
 "cells": [
  {
   "cell_type": "code",
   "execution_count": 1,
   "id": "e24b4494",
   "metadata": {},
   "outputs": [],
   "source": [
    "# Importing necessary libraries\n",
    "import pandas as pd\n",
    "\n",
    "# Reading the CSV file\n",
    "file_path = \"../master_final.csv\"\n",
    "data = pd.read_csv(file_path)"
   ]
  },
  {
   "cell_type": "code",
   "execution_count": 2,
   "id": "a3201887",
   "metadata": {},
   "outputs": [],
   "source": [
    "from sklearn.model_selection import train_test_split\n",
    "from sklearn.preprocessing import OneHotEncoder\n",
    "from sklearn.compose import ColumnTransformer\n",
    "from sklearn.multioutput import MultiOutputRegressor\n",
    "from sklearn.linear_model import LinearRegression\n",
    "from sklearn.metrics import mean_squared_error\n",
    "from sklearn.preprocessing import StandardScaler\n",
    "import numpy as np\n",
    "\n",
    "# Define the features and target variables\n",
    "selected_features = ['stop_sequence', 'day_of_the_week', 'time_category', 'dist_to_next_stop']\n",
    "selected_targets = ['next_stop_sequence', 'time_diff']\n",
    "\n",
    "# Prepare the input and output arrays\n",
    "X = data[selected_features]\n",
    "y = data[selected_targets]\n",
    "\n",
    "# One-hot encode the categorical variables\n",
    "categorical_features = ['day_of_the_week', 'time_category']\n",
    "one_hot = OneHotEncoder()\n",
    "transformer = ColumnTransformer([(\"one_hot\", \n",
    "                                  one_hot, \n",
    "                                  categorical_features)], \n",
    "                                remainder=\"passthrough\")\n",
    "X_transformed = transformer.fit_transform(X)\n",
    "\n",
    "# Split the data into training and testing sets\n",
    "X_train, X_test, y_train, y_test = train_test_split(X_transformed, y, test_size=0.2, random_state=42)"
   ]
  },
  {
   "cell_type": "code",
   "execution_count": 4,
   "id": "d9f056cf",
   "metadata": {},
   "outputs": [
    {
     "data": {
      "text/plain": [
       "((0.0009686128923388467, 0.0270104540954446, 0.9999983520550251),\n",
       " (5.9067677755127415, 10.382289155259565, 0.9520728347960645))"
      ]
     },
     "execution_count": 4,
     "metadata": {},
     "output_type": "execute_result"
    }
   ],
   "source": [
    "from sklearn.ensemble import RandomForestRegressor\n",
    "from sklearn.metrics import mean_absolute_error\n",
    "from sklearn.metrics import r2_score\n",
    "\n",
    "# Creating the Random Forest regressor\n",
    "rf_model = MultiOutputRegressor(RandomForestRegressor(random_state=42))\n",
    "\n",
    "# Training the Random Forest model on the training data\n",
    "rf_model.fit(X_train, y_train)\n",
    "\n",
    "# Predicting on the testing set\n",
    "rf_y_pred = rf_model.predict(X_test)\n",
    "\n",
    "# Evaluating the Random Forest model using MAE, RMSE, and R² score\n",
    "rf_mae_next_stop_sequence = mean_absolute_error(y_test['next_stop_sequence'], rf_y_pred[:, 0])\n",
    "rf_rmse_next_stop_sequence = np.sqrt(mean_squared_error(y_test['next_stop_sequence'], rf_y_pred[:, 0]))\n",
    "rf_r2_next_stop_sequence = r2_score(y_test['next_stop_sequence'], rf_y_pred[:, 0])\n",
    "\n",
    "rf_mae_time_diff = mean_absolute_error(y_test['time_diff'], rf_y_pred[:, 1])\n",
    "rf_rmse_time_diff = np.sqrt(mean_squared_error(y_test['time_diff'], rf_y_pred[:, 1]))\n",
    "rf_r2_time_diff = r2_score(y_test['time_diff'], rf_y_pred[:, 1])\n",
    "\n",
    "(rf_mae_next_stop_sequence, rf_rmse_next_stop_sequence, rf_r2_next_stop_sequence), (rf_mae_time_diff, rf_rmse_time_diff, rf_r2_time_diff)"
   ]
  },
  {
   "cell_type": "code",
   "execution_count": null,
   "id": "794d0a32",
   "metadata": {},
   "outputs": [],
   "source": []
  }
 ],
 "metadata": {
  "kernelspec": {
   "display_name": "Python 3 (ipykernel)",
   "language": "python",
   "name": "python3"
  },
  "language_info": {
   "codemirror_mode": {
    "name": "ipython",
    "version": 3
   },
   "file_extension": ".py",
   "mimetype": "text/x-python",
   "name": "python",
   "nbconvert_exporter": "python",
   "pygments_lexer": "ipython3",
   "version": "3.10.9"
  }
 },
 "nbformat": 4,
 "nbformat_minor": 5
}
