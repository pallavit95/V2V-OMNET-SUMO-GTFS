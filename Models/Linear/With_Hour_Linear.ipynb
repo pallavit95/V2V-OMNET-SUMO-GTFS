{
 "cells": [
  {
   "cell_type": "code",
   "execution_count": 17,
   "id": "f14fd73b",
   "metadata": {},
   "outputs": [],
   "source": [
    "# Importing necessary libraries\n",
    "import pandas as pd\n",
    "\n",
    "# Reading the CSV file\n",
    "file_path = \"../master_final.csv\"\n",
    "data = pd.read_csv(file_path)"
   ]
  },
  {
   "cell_type": "code",
   "execution_count": 18,
   "id": "336fd51a",
   "metadata": {},
   "outputs": [],
   "source": [
    "from sklearn.model_selection import train_test_split\n",
    "from sklearn.preprocessing import OneHotEncoder\n",
    "from sklearn.compose import ColumnTransformer\n",
    "from sklearn.multioutput import MultiOutputRegressor\n",
    "from sklearn.linear_model import LinearRegression\n",
    "from sklearn.metrics import mean_squared_error\n",
    "from sklearn.preprocessing import StandardScaler\n",
    "import numpy as np\n",
    "\n",
    "# Extracting the hour of the day by splitting the arrival_time_new string\n",
    "data['hour_of_day'] = data['arrival_time_new'].apply(lambda x: int(x.split()[2].split(':')[0])) \n",
    "\n",
    "# Define the features and target variables\n",
    "selected_features = ['stop_sequence', 'day_of_the_week', 'time_category', 'dist_to_next_stop', 'hour_of_day']\n",
    "selected_targets = ['next_stop_sequence', 'time_diff']\n",
    "\n",
    "# Prepare the input and output arrays\n",
    "X = data[selected_features]\n",
    "y = data[selected_targets]\n",
    "\n",
    "# One-hot encode the categorical variables\n",
    "categorical_features = ['day_of_the_week', 'time_category']\n",
    "one_hot = OneHotEncoder()\n",
    "transformer = ColumnTransformer([(\"one_hot\", \n",
    "                                  one_hot, \n",
    "                                  categorical_features)], \n",
    "                                remainder=\"passthrough\")\n",
    "X_transformed = transformer.fit_transform(X)\n",
    "\n",
    "# Split the data into training and testing sets\n",
    "X_train, X_test, y_train, y_test = train_test_split(X_transformed, y, test_size=0.2, random_state=42)"
   ]
  },
  {
   "cell_type": "code",
   "execution_count": 19,
   "id": "72b283eb",
   "metadata": {},
   "outputs": [
    {
     "data": {
      "text/plain": [
       "(0.12731918017303442, 22.35253104323526)"
      ]
     },
     "execution_count": 19,
     "metadata": {},
     "output_type": "execute_result"
    }
   ],
   "source": [
    "from sklearn.metrics import mean_absolute_error\n",
    "\n",
    "# Creating the multi-output linear regressor\n",
    "model = MultiOutputRegressor(LinearRegression())\n",
    "\n",
    "# Training the model on the training data\n",
    "model.fit(X_train, y_train)\n",
    "\n",
    "# Predicting on the testing set\n",
    "y_pred = model.predict(X_test)\n",
    "\n",
    "# Evaluating the model using Mean Absolute Error (MAE)\n",
    "mae_next_stop_sequence = mean_absolute_error(y_test['next_stop_sequence'], y_pred[:, 0])\n",
    "mae_time_diff = mean_absolute_error(y_test['time_diff'], y_pred[:, 1])\n",
    "\n",
    "mae_next_stop_sequence, mae_time_diff"
   ]
  },
  {
   "cell_type": "code",
   "execution_count": 20,
   "id": "c3d7032d",
   "metadata": {},
   "outputs": [
    {
     "data": {
      "text/plain": [
       "(0.20898485368894096, 30.069734190382803)"
      ]
     },
     "execution_count": 20,
     "metadata": {},
     "output_type": "execute_result"
    }
   ],
   "source": [
    "from sklearn.metrics import mean_squared_error, r2_score\n",
    "import numpy as np\n",
    "\n",
    "# Calculating RMSE for both targets\n",
    "rmse_next_stop_sequence = np.sqrt(mean_squared_error(y_test['next_stop_sequence'], y_pred[:, 0]))\n",
    "rmse_time_diff = np.sqrt(mean_squared_error(y_test['time_diff'], y_pred[:, 1]))\n",
    "\n",
    "# Calculating R² score for both targets\n",
    "r2_next_stop_sequence = r2_score(y_test['next_stop_sequence'], y_pred[:, 0])\n",
    "r2_time_diff = r2_score(y_test['time_diff'], y_pred[:, 1])\n",
    "\n",
    "rmse_next_stop_sequence, rmse_time_diff"
   ]
  },
  {
   "cell_type": "code",
   "execution_count": 21,
   "id": "27abbeae",
   "metadata": {},
   "outputs": [
    {
     "data": {
      "text/plain": [
       "(0.9999013473948354, 0.5979735010519511)"
      ]
     },
     "execution_count": 21,
     "metadata": {},
     "output_type": "execute_result"
    }
   ],
   "source": [
    "r2_next_stop_sequence, r2_time_diff"
   ]
  },
  {
   "cell_type": "code",
   "execution_count": null,
   "id": "862709aa",
   "metadata": {},
   "outputs": [],
   "source": []
  }
 ],
 "metadata": {
  "kernelspec": {
   "display_name": "Python 3 (ipykernel)",
   "language": "python",
   "name": "python3"
  },
  "language_info": {
   "codemirror_mode": {
    "name": "ipython",
    "version": 3
   },
   "file_extension": ".py",
   "mimetype": "text/x-python",
   "name": "python",
   "nbconvert_exporter": "python",
   "pygments_lexer": "ipython3",
   "version": "3.10.9"
  }
 },
 "nbformat": 4,
 "nbformat_minor": 5
}
