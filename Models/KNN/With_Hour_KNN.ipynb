{
 "cells": [
  {
   "cell_type": "code",
   "execution_count": 1,
   "id": "fc5c2dde",
   "metadata": {},
   "outputs": [],
   "source": [
    "# Importing necessary libraries\n",
    "import pandas as pd\n",
    "\n",
    "# Reading the CSV file\n",
    "file_path = \"../master_final.csv\"\n",
    "data = pd.read_csv(file_path)"
   ]
  },
  {
   "cell_type": "code",
   "execution_count": 2,
   "id": "03598082",
   "metadata": {},
   "outputs": [],
   "source": [
    "from sklearn.model_selection import train_test_split\n",
    "from sklearn.preprocessing import OneHotEncoder\n",
    "from sklearn.compose import ColumnTransformer\n",
    "from sklearn.multioutput import MultiOutputRegressor\n",
    "from sklearn.linear_model import LinearRegression\n",
    "from sklearn.metrics import mean_squared_error\n",
    "from sklearn.preprocessing import StandardScaler\n",
    "import numpy as np\n",
    "\n",
    "# Extracting the hour of the day by splitting the arrival_time_new string\n",
    "data['hour_of_day'] = data['arrival_time_new'].apply(lambda x: int(x.split()[2].split(':')[0])) \n",
    "\n",
    "# Define the features and target variables\n",
    "selected_features = ['stop_sequence', 'day_of_the_week', 'time_category', 'dist_to_next_stop', 'hour_of_day']\n",
    "selected_targets = ['next_stop_sequence', 'time_diff']\n",
    "\n",
    "# Prepare the input and output arrays\n",
    "X = data[selected_features]\n",
    "y = data[selected_targets]\n",
    "\n",
    "# One-hot encode the categorical variables\n",
    "categorical_features = ['day_of_the_week', 'time_category']\n",
    "one_hot = OneHotEncoder()\n",
    "transformer = ColumnTransformer([(\"one_hot\", \n",
    "                                  one_hot, \n",
    "                                  categorical_features)], \n",
    "                                remainder=\"passthrough\")\n",
    "X_transformed = transformer.fit_transform(X)\n",
    "\n",
    "# Split the data into training and testing sets\n",
    "X_train, X_test, y_train, y_test = train_test_split(X_transformed, y, test_size=0.2, random_state=42)"
   ]
  },
  {
   "cell_type": "code",
   "execution_count": 3,
   "id": "08c0065c",
   "metadata": {},
   "outputs": [
    {
     "data": {
      "text/plain": [
       "((0.055214309821127225, 0.4490061023182213, 0.9995446100706669),\n",
       " (4.2589942625717185, 8.74415517628079, 0.966003734364628))"
      ]
     },
     "execution_count": 3,
     "metadata": {},
     "output_type": "execute_result"
    }
   ],
   "source": [
    "from sklearn.neighbors import KNeighborsRegressor\n",
    "from sklearn.metrics import mean_absolute_error\n",
    "from sklearn.metrics import r2_score\n",
    "\n",
    "# Creating the k-NN regressor with k=5 (default value)\n",
    "knn_model = MultiOutputRegressor(KNeighborsRegressor())\n",
    "\n",
    "# Training the k-NN model on the training data\n",
    "knn_model.fit(X_train, y_train)\n",
    "\n",
    "# Predicting on the testing set\n",
    "knn_y_pred = knn_model.predict(X_test)\n",
    "\n",
    "# Evaluating the k-NN model using MAE, RMSE, and R² score\n",
    "knn_mae_next_stop_sequence = mean_absolute_error(y_test['next_stop_sequence'], knn_y_pred[:, 0])\n",
    "knn_rmse_next_stop_sequence = np.sqrt(mean_squared_error(y_test['next_stop_sequence'], knn_y_pred[:, 0]))\n",
    "knn_r2_next_stop_sequence = r2_score(y_test['next_stop_sequence'], knn_y_pred[:, 0])\n",
    "\n",
    "knn_mae_time_diff = mean_absolute_error(y_test['time_diff'], knn_y_pred[:, 1])\n",
    "knn_rmse_time_diff = np.sqrt(mean_squared_error(y_test['time_diff'], knn_y_pred[:, 1]))\n",
    "knn_r2_time_diff = r2_score(y_test['time_diff'], knn_y_pred[:, 1])\n",
    "\n",
    "(knn_mae_next_stop_sequence, knn_rmse_next_stop_sequence, knn_r2_next_stop_sequence), (knn_mae_time_diff, knn_rmse_time_diff, knn_r2_time_diff)"
   ]
  },
  {
   "cell_type": "code",
   "execution_count": null,
   "id": "ffc62f72",
   "metadata": {},
   "outputs": [],
   "source": []
  }
 ],
 "metadata": {
  "kernelspec": {
   "display_name": "Python 3 (ipykernel)",
   "language": "python",
   "name": "python3"
  },
  "language_info": {
   "codemirror_mode": {
    "name": "ipython",
    "version": 3
   },
   "file_extension": ".py",
   "mimetype": "text/x-python",
   "name": "python",
   "nbconvert_exporter": "python",
   "pygments_lexer": "ipython3",
   "version": "3.10.9"
  }
 },
 "nbformat": 4,
 "nbformat_minor": 5
}
